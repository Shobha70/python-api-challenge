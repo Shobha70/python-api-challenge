{
 "cells": [
  {
   "cell_type": "code",
   "execution_count": 16,
   "metadata": {},
   "outputs": [],
   "source": [
    "import pandas as pd\n",
    "import numpy as np\n",
    "import json \n",
    "import requests\n",
    "import matplotlib.pyplot as plt\n",
    "import random\n",
    "\n",
    "import gmaps\n",
    "from config import gkey\n",
    "\n",
    "from ipywidgets.embed import embed_minimal_html\n",
    "\n",
    "pd.options.mode.chained_assignment = None\n",
    "\n",
    "gmaps.configure(api_key=gkey)\n",
    "\n"
   ]
  },
  {
   "cell_type": "code",
   "execution_count": 17,
   "metadata": {},
   "outputs": [
    {
     "data": {
      "text/html": [
       "<div>\n",
       "<style scoped>\n",
       "    .dataframe tbody tr th:only-of-type {\n",
       "        vertical-align: middle;\n",
       "    }\n",
       "\n",
       "    .dataframe tbody tr th {\n",
       "        vertical-align: top;\n",
       "    }\n",
       "\n",
       "    .dataframe thead th {\n",
       "        text-align: right;\n",
       "    }\n",
       "</style>\n",
       "<table border=\"1\" class=\"dataframe\">\n",
       "  <thead>\n",
       "    <tr style=\"text-align: right;\">\n",
       "      <th></th>\n",
       "      <th>city</th>\n",
       "      <th>latitude</th>\n",
       "      <th>longitude</th>\n",
       "      <th>temperature(F)</th>\n",
       "      <th>humidity(%)</th>\n",
       "      <th>cloudiness(%)</th>\n",
       "      <th>wind speed(mph)</th>\n",
       "    </tr>\n",
       "  </thead>\n",
       "  <tbody>\n",
       "    <tr>\n",
       "      <th>0</th>\n",
       "      <td>ribeira grande</td>\n",
       "      <td>34.531634</td>\n",
       "      <td>-38.741963</td>\n",
       "      <td>60.80</td>\n",
       "      <td>77</td>\n",
       "      <td>40</td>\n",
       "      <td>16.11</td>\n",
       "    </tr>\n",
       "    <tr>\n",
       "      <th>1</th>\n",
       "      <td>oussouye</td>\n",
       "      <td>11.596526</td>\n",
       "      <td>-19.565544</td>\n",
       "      <td>77.00</td>\n",
       "      <td>53</td>\n",
       "      <td>0</td>\n",
       "      <td>2.30</td>\n",
       "    </tr>\n",
       "    <tr>\n",
       "      <th>2</th>\n",
       "      <td>nikolskoye</td>\n",
       "      <td>33.315040</td>\n",
       "      <td>172.929545</td>\n",
       "      <td>23.00</td>\n",
       "      <td>86</td>\n",
       "      <td>90</td>\n",
       "      <td>4.47</td>\n",
       "    </tr>\n",
       "    <tr>\n",
       "      <th>3</th>\n",
       "      <td>kichera</td>\n",
       "      <td>56.301279</td>\n",
       "      <td>110.031828</td>\n",
       "      <td>-3.84</td>\n",
       "      <td>81</td>\n",
       "      <td>100</td>\n",
       "      <td>2.15</td>\n",
       "    </tr>\n",
       "    <tr>\n",
       "      <th>4</th>\n",
       "      <td>georgetown</td>\n",
       "      <td>-21.487300</td>\n",
       "      <td>-22.520906</td>\n",
       "      <td>76.28</td>\n",
       "      <td>83</td>\n",
       "      <td>40</td>\n",
       "      <td>4.61</td>\n",
       "    </tr>\n",
       "  </tbody>\n",
       "</table>\n",
       "</div>"
      ],
      "text/plain": [
       "             city   latitude   longitude  temperature(F)  humidity(%)  \\\n",
       "0  ribeira grande  34.531634  -38.741963           60.80           77   \n",
       "1        oussouye  11.596526  -19.565544           77.00           53   \n",
       "2      nikolskoye  33.315040  172.929545           23.00           86   \n",
       "3         kichera  56.301279  110.031828           -3.84           81   \n",
       "4      georgetown -21.487300  -22.520906           76.28           83   \n",
       "\n",
       "   cloudiness(%)  wind speed(mph)  \n",
       "0             40            16.11  \n",
       "1              0             2.30  \n",
       "2             90             4.47  \n",
       "3            100             2.15  \n",
       "4             40             4.61  "
      ]
     },
     "execution_count": 17,
     "metadata": {},
     "output_type": "execute_result"
    }
   ],
   "source": [
    "# read from cities csv and create a dataframe\n",
    "cities_df = pd.read_csv('../WeatherPy/cities.csv')\n",
    "cities_df.head()"
   ]
  },
  {
   "cell_type": "code",
   "execution_count": 18,
   "metadata": {},
   "outputs": [],
   "source": [
    "# Store latitude and longitude in locations\n",
    "locations = cities_df[[\"latitude\", \"longitude\"]]\n",
    "\n",
    "# convert to float\n",
    "humidity = cities_df[\"humidity(%)\"].astype(float)"
   ]
  },
  {
   "cell_type": "code",
   "execution_count": 19,
   "metadata": {},
   "outputs": [
    {
     "data": {
      "application/vnd.jupyter.widget-view+json": {
       "model_id": "a81724b98c9347a390363abbc58ce479",
       "version_major": 2,
       "version_minor": 0
      },
      "text/plain": [
       "Figure(layout=FigureLayout(height='420px'))"
      ]
     },
     "metadata": {},
     "output_type": "display_data"
    }
   ],
   "source": [
    "# Plot Heatmap\n",
    "fig = gmaps.figure(zoom_level=2,center=(0,10))\n",
    "\n",
    "# Create heat layer\n",
    "heat_layer = gmaps.heatmap_layer(locations, weights=humidity, \n",
    "                                 dissipating=False, max_intensity=100,\n",
    "                                 point_radius=4)\n",
    "\n",
    "\n",
    "# Add layer\n",
    "fig.add_layer(heat_layer)\n",
    "\n",
    "# Display figure\n",
    "\n",
    "embed_minimal_html('heatmap.html', views=[fig])\n",
    "fig\n"
   ]
  },
  {
   "cell_type": "code",
   "execution_count": 20,
   "metadata": {},
   "outputs": [],
   "source": [
    "# select ideal cities\n",
    "ideal_cities_df = cities_df[(cities_df['temperature(F)']>=70) & (cities_df['temperature(F)']<=80) & (cities_df['wind speed(mph)']<10) & (cities_df['cloudiness(%)']==0)]"
   ]
  },
  {
   "cell_type": "code",
   "execution_count": 21,
   "metadata": {},
   "outputs": [
    {
     "name": "stdout",
     "output_type": "stream",
     "text": [
      "Retrieving Results for Index 1: oussouye.\n",
      "Closest hotel to oussouye is Oussouye Bed&Breakfast.\n",
      "------------\n",
      "Retrieving Results for Index 9: chuy.\n",
      "Closest hotel to chuy is The Mayton.\n",
      "------------\n",
      "Retrieving Results for Index 14: caravelas.\n",
      "Closest hotel to caravelas is Hotel Marina Porto Abrolhos.\n",
      "------------\n",
      "Retrieving Results for Index 53: saint-philippe.\n",
      "Closest hotel to saint-philippe is Les Embruns Du Baril.\n",
      "------------\n",
      "Retrieving Results for Index 93: santa vitoria do palmar.\n",
      "Closest hotel to santa vitoria do palmar is Hotel Franke.\n",
      "------------\n",
      "Retrieving Results for Index 97: le port.\n",
      "Closest hotel to le port is LA CAZ' DES ORANGERS Gites Hôtel La réunion.\n",
      "------------\n",
      "Retrieving Results for Index 116: beyla.\n",
      "Closest hotel to beyla is Hotel de L'Amitié Vraie.\n",
      "------------\n",
      "Retrieving Results for Index 119: banfora.\n",
      "Closest hotel to banfora is HOTEL CASCADES PALACE.\n",
      "------------\n",
      "Retrieving Results for Index 320: prado.\n",
      "Closest hotel to prado is Cahy Praia Hotel.\n",
      "------------\n",
      "Retrieving Results for Index 347: yulara.\n",
      "Closest hotel to yulara is Sails in the Desert.\n",
      "------------\n",
      "Retrieving Results for Index 429: yei.\n",
      "Closest hotel to yei is City Link Hotel.\n",
      "------------\n",
      "Retrieving Results for Index 457: karwar.\n",
      "Closest hotel to karwar is Sterling Karwar.\n",
      "------------\n",
      "Retrieving Results for Index 559: rocha.\n",
      "Closest hotel to rocha is The Mayton.\n",
      "------------\n"
     ]
    }
   ],
   "source": [
    "# base_url = \"https://maps.googleapis.com/maps/api/place/nearbysearch/json\"\n",
    "base_url = \"https://maps.googleapis.com/maps/api/place/findplacefromtext/json\"\n",
    "\n",
    "params = {     \n",
    "    \"key\": gkey,\n",
    "}\n",
    "# use iterrows to iterate through pandas dataframe\n",
    "for index, row in ideal_cities_df.iterrows():\n",
    "\n",
    "    # get restaurant type from df\n",
    "    city = row['city']\n",
    "    lat = row['latitude']\n",
    "    lng = row['longitude']\n",
    "\n",
    "    # add keyword to params dict\n",
    "#     params['name'] = f'Sheraton'\n",
    "#     params['location'] = f'{lat},{lng}'\n",
    "#     print(params)\n",
    "    \n",
    "    params['input'] = f'hotel in {city}'\n",
    "    params['inputtype'] = 'textquery'\n",
    "    params['locationbias'] = f'circle:{5000}@{lat},{lng}'\n",
    "    params['fields'] = f'name,formatted_address,geometry'\n",
    "    \n",
    "    # assemble url and make API request\n",
    "    print(f\"Retrieving Results for Index {index}: {city}.\")\n",
    "    response = requests.get(base_url, params=params).json()\n",
    "  \n",
    "    # extract results\n",
    "    results = response['candidates']\n",
    "    \n",
    "    try:\n",
    "        print(f\"Closest hotel to {city} is {results[0]['name']}.\")\n",
    "        \n",
    "        ideal_cities_df.loc[index, 'hotel_lat'] = results[0]['geometry']['location']['lat']\n",
    "        ideal_cities_df.loc[index, 'hotel_lng'] = results[0]['geometry']['location']['lng']\n",
    "        ideal_cities_df.loc[index, 'hotel_name'] = results[0]['name']\n",
    "        ideal_cities_df.loc[index, 'country'] = results[0]['formatted_address']\n",
    "        ideal_cities_df.loc[index, 'hotel_address'] = f'City: {row[\"city\"]} \\nHotel: {results[0][\"name\"]} \\nAddress: {results[0][\"formatted_address\"]}'\n",
    "        \n",
    "    except (KeyError, IndexError):\n",
    "        print(\"Missing field/result... skipping.\")\n",
    "        \n",
    "    print(\"------------\")"
   ]
  },
  {
   "cell_type": "code",
   "execution_count": 7,
   "metadata": {},
   "outputs": [
    {
     "data": {
      "application/vnd.jupyter.widget-view+json": {
       "model_id": "9ab998385d3b4e26930261b47533162b",
       "version_major": 2,
       "version_minor": 0
      },
      "text/plain": [
       "Figure(layout=FigureLayout(height='420px'))"
      ]
     },
     "metadata": {},
     "output_type": "display_data"
    }
   ],
   "source": [
    "# Plot Heatmap\n",
    "fig = gmaps.figure()\n",
    "\n",
    "\n",
    "locations = ideal_cities_df[[\"hotel_lat\", \"hotel_lng\"]]\n",
    "humidity = ideal_cities_df[\"humidity(%)\"].astype(float)\n",
    "\n",
    "\n",
    "# Create heat layer\n",
    "heat_layer = gmaps.heatmap_layer(locations, weights=humidity, \n",
    "                                 dissipating=False, max_intensity=100,\n",
    "                                 point_radius=4)\n",
    "\n",
    "\n",
    "# Add layer\n",
    "fig.add_layer(heat_layer)\n",
    "\n",
    "# Add marker layer\n",
    "city = [row for row in ideal_cities_df['hotel_address']]\n",
    "\n",
    "marker_layer = gmaps.marker_layer(locations, hover_text=city)\n",
    "\n",
    "fig.add_layer(marker_layer)\n",
    "\n",
    "# Display figure\n",
    "fig\n"
   ]
  },
  {
   "cell_type": "code",
   "execution_count": null,
   "metadata": {},
   "outputs": [],
   "source": []
  }
 ],
 "metadata": {
  "kernelspec": {
   "display_name": "Python 3",
   "language": "python",
   "name": "python3"
  },
  "language_info": {
   "codemirror_mode": {
    "name": "ipython",
    "version": 3
   },
   "file_extension": ".py",
   "mimetype": "text/x-python",
   "name": "python",
   "nbconvert_exporter": "python",
   "pygments_lexer": "ipython3",
   "version": "3.6.10"
  }
 },
 "nbformat": 4,
 "nbformat_minor": 4
}
